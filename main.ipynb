{
 "cells": [
  {
   "cell_type": "code",
   "execution_count": 1,
   "id": "f2bdf8ce",
   "metadata": {
    "scrolled": true
   },
   "outputs": [
    {
     "name": "stdout",
     "output_type": "stream",
     "text": [
      "Connected\n",
      "Sucessfully created True\n",
      "1 records returned\n",
      "Updated {'n': 1, 'nModified': 1, 'ok': 1.0, 'updatedExisting': True}\n",
      "Deleted {'n': 0, 'ok': 1.0}\n"
     ]
    }
   ],
   "source": [
    "import CRUDMongo\n",
    "from CRUDMongo import AnimalShelter\n",
    "\n",
    "# initialize AnimalShelter instance\n",
    "pets = AnimalShelter(\n",
    "    user='aacuser',\n",
    "    password='pass',\n",
    "    host='nv-desktop-services.apporto.com',\n",
    "    port=31808,\n",
    "    db='AAC',\n",
    "    collection='animals'\n",
    ")\n",
    "\n",
    "# create an animal to use for the create method\n",
    "animal = {\n",
    "    \"age_upon_outcome\" : \"5 years\",\n",
    "    \"animal_id\" : \"A345678\",\n",
    "    \"animal_type\" : \"Cat\",\n",
    "    \"breed\" : \"Siamese\",\n",
    "    \"color\" : \"White\",\n",
    "    \"date_of_birth\" : \"2020-02-03\",\n",
    "    \"name\" : \"Miso\",\n",
    "    \"outcome_type\" : \"Adoption\",\n",
    "    \"outcome_subtype\" : \"\",\n",
    "    \"sex_upon_outcome\" : \"Female\"\n",
    "}\n",
    "# test the create method\n",
    "result = pets.create(animal)\n",
    "print(f'Sucessfully created {result}')\n",
    "\n",
    "# test the read method\n",
    "records = pets.read({\"breed\" : \"Siamese\"})\n",
    "print(\"%d records returned\" % len(records))\n",
    "\n",
    "# test the update method\n",
    "update_result = pets.update({\"breed\": \"Siamese\"}, {\"breed\": \"Shorthair\"})\n",
    "print(f'Updated {update_result}')\n",
    "\n",
    "# test the delete method\n",
    "delete_result = pets.delete({\"breed\":\"Siamese\"})\n",
    "print(f'Deleted {delete_result}')"
   ]
  },
  {
   "cell_type": "code",
   "execution_count": null,
   "id": "5744f7bd",
   "metadata": {},
   "outputs": [],
   "source": []
  },
  {
   "cell_type": "code",
   "execution_count": null,
   "id": "8a767858",
   "metadata": {},
   "outputs": [],
   "source": []
  },
  {
   "cell_type": "code",
   "execution_count": null,
   "id": "3ebaff52",
   "metadata": {},
   "outputs": [],
   "source": []
  },
  {
   "cell_type": "code",
   "execution_count": null,
   "id": "830331a0",
   "metadata": {},
   "outputs": [],
   "source": []
  },
  {
   "cell_type": "code",
   "execution_count": null,
   "id": "2d9a78fe",
   "metadata": {},
   "outputs": [],
   "source": []
  }
 ],
 "metadata": {
  "kernelspec": {
   "display_name": "Python 3 (ipykernel)",
   "language": "python",
   "name": "python3"
  },
  "language_info": {
   "codemirror_mode": {
    "name": "ipython",
    "version": 3
   },
   "file_extension": ".py",
   "mimetype": "text/x-python",
   "name": "python",
   "nbconvert_exporter": "python",
   "pygments_lexer": "ipython3",
   "version": "3.9.12"
  }
 },
 "nbformat": 4,
 "nbformat_minor": 5
}
